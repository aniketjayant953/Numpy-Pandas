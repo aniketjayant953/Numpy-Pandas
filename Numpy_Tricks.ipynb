{
 "cells": [
  {
   "cell_type": "markdown",
   "id": "e75180fd",
   "metadata": {},
   "source": [
    "# np.sort\n",
    "Return a sorted copy of an array.\n",
    "\n",
    "https://numpy.org/doc/stable/reference/generated/numpy.sort.html"
   ]
  },
  {
   "cell_type": "code",
   "execution_count": 36,
   "id": "15e2d186",
   "metadata": {},
   "outputs": [
    {
     "data": {
      "text/plain": [
       "array([49, 77, 19, 95, 91, 75,  7, 72, 16, 76, 19, 56, 17, 97, 85])"
      ]
     },
     "execution_count": 36,
     "metadata": {},
     "output_type": "execute_result"
    }
   ],
   "source": [
    "# code\n",
    "import numpy as np\n",
    "a = np.random.randint(1,100,15)\n",
    "a"
   ]
  },
  {
   "cell_type": "code",
   "execution_count": 2,
   "id": "6f563b98",
   "metadata": {},
   "outputs": [
    {
     "data": {
      "text/plain": [
       "array([[32, 85, 17, 29],\n",
       "       [89, 72, 70,  8],\n",
       "       [32, 28, 46, 61],\n",
       "       [53, 64, 13, 72],\n",
       "       [99, 40, 25, 78],\n",
       "       [41, 32,  6, 75]])"
      ]
     },
     "execution_count": 2,
     "metadata": {},
     "output_type": "execute_result"
    }
   ],
   "source": [
    "b = np.random.randint(1,100,24).reshape(6,4)\n",
    "b"
   ]
  },
  {
   "cell_type": "code",
   "execution_count": 7,
   "id": "d2a336cc",
   "metadata": {},
   "outputs": [
    {
     "data": {
      "text/plain": [
       "array([95, 92, 87, 80, 75, 54, 47, 38, 37, 32, 30, 27, 27, 23, 22])"
      ]
     },
     "execution_count": 7,
     "metadata": {},
     "output_type": "execute_result"
    }
   ],
   "source": [
    "np.sort(a)[::-1]"
   ]
  },
  {
   "cell_type": "code",
   "execution_count": 6,
   "id": "3ac8c00c",
   "metadata": {},
   "outputs": [
    {
     "data": {
      "text/plain": [
       "array([[32, 28,  6,  8],\n",
       "       [32, 32, 13, 29],\n",
       "       [41, 40, 17, 61],\n",
       "       [53, 64, 25, 72],\n",
       "       [89, 72, 46, 75],\n",
       "       [99, 85, 70, 78]])"
      ]
     },
     "execution_count": 6,
     "metadata": {},
     "output_type": "execute_result"
    }
   ],
   "source": [
    "np.sort(b,axis = 0)"
   ]
  },
  {
   "cell_type": "markdown",
   "id": "be454305",
   "metadata": {},
   "source": [
    "# np.append\n",
    "The numpy.append() appends values along the mentioned axis at the end of the array\n",
    "\n",
    "https://numpy.org/doc/stable/reference/generated/numpy.append.html"
   ]
  },
  {
   "cell_type": "code",
   "execution_count": 8,
   "id": "c65806ae",
   "metadata": {},
   "outputs": [
    {
     "data": {
      "text/plain": [
       "array([ 95,  23,  47,  87,  27,  80,  27,  92,  38,  37,  75,  30,  32,\n",
       "        22,  54, 200])"
      ]
     },
     "execution_count": 8,
     "metadata": {},
     "output_type": "execute_result"
    }
   ],
   "source": [
    "# code\n",
    "np.append(a,200)"
   ]
  },
  {
   "cell_type": "code",
   "execution_count": 14,
   "id": "8b87c3a5",
   "metadata": {},
   "outputs": [
    {
     "data": {
      "text/plain": [
       "array([[32., 85., 17., 29.,  1.],\n",
       "       [89., 72., 70.,  8.,  1.],\n",
       "       [32., 28., 46., 61.,  1.],\n",
       "       [53., 64., 13., 72.,  1.],\n",
       "       [99., 40., 25., 78.,  1.],\n",
       "       [41., 32.,  6., 75.,  1.]])"
      ]
     },
     "execution_count": 14,
     "metadata": {},
     "output_type": "execute_result"
    }
   ],
   "source": [
    "#2D array\n",
    "np.append(b,np.ones((b.shape[0],1)),axis = 1)"
   ]
  },
  {
   "cell_type": "markdown",
   "id": "72b5190a",
   "metadata": {},
   "source": [
    "# np.concatenate\n",
    "numpy.concatenate() function concatenate a sequence of arrays along an existing axis.\n",
    "\n",
    "https://numpy.org/doc/stable/reference/generated/numpy.concatenate.html"
   ]
  },
  {
   "cell_type": "code",
   "execution_count": 15,
   "id": "a15564ad",
   "metadata": {},
   "outputs": [
    {
     "name": "stdout",
     "output_type": "stream",
     "text": [
      "[[0 1 2]\n",
      " [3 4 5]]\n",
      "[[ 6  7  8]\n",
      " [ 9 10 11]]\n"
     ]
    }
   ],
   "source": [
    "# code\n",
    "c = np.arange(6).reshape(2,3)\n",
    "d = np.arange(6,12).reshape(2,3)\n",
    "\n",
    "print(c)\n",
    "print(d)"
   ]
  },
  {
   "cell_type": "code",
   "execution_count": 17,
   "id": "ba266997",
   "metadata": {},
   "outputs": [
    {
     "data": {
      "text/plain": [
       "array([[ 0,  1,  2,  6,  7,  8],\n",
       "       [ 3,  4,  5,  9, 10, 11]])"
      ]
     },
     "execution_count": 17,
     "metadata": {},
     "output_type": "execute_result"
    }
   ],
   "source": [
    "np.concatenate((c,d),axis=1)"
   ]
  },
  {
   "cell_type": "markdown",
   "id": "a431fbf6",
   "metadata": {},
   "source": [
    "# np.unique\n",
    "With the help of np.unique() method, we can get the unique values from an array given as parameter in np.unique() method.\n",
    "\n",
    "https://numpy.org/doc/stable/reference/generated/numpy.unique.html/"
   ]
  },
  {
   "cell_type": "code",
   "execution_count": 18,
   "id": "5cef4d6f",
   "metadata": {},
   "outputs": [],
   "source": [
    "# code\n",
    "e = np.array([1,1,2,2,3,3,4,4,5,5,6,6])"
   ]
  },
  {
   "cell_type": "code",
   "execution_count": 19,
   "id": "246a359b",
   "metadata": {},
   "outputs": [
    {
     "data": {
      "text/plain": [
       "array([1, 2, 3, 4, 5, 6])"
      ]
     },
     "execution_count": 19,
     "metadata": {},
     "output_type": "execute_result"
    }
   ],
   "source": [
    "np.unique(e)"
   ]
  },
  {
   "cell_type": "markdown",
   "id": "2dce53f8",
   "metadata": {},
   "source": [
    "# np.expand_dims\n",
    "With the help of Numpy.expand_dims() method, we can get the expanded dimensions of an array\n",
    "\n",
    "https://numpy.org/doc/stable/reference/generated/numpy.expand_dims.html"
   ]
  },
  {
   "cell_type": "code",
   "execution_count": 22,
   "id": "42d97a20",
   "metadata": {},
   "outputs": [
    {
     "data": {
      "text/plain": [
       "(15,)"
      ]
     },
     "execution_count": 22,
     "metadata": {},
     "output_type": "execute_result"
    }
   ],
   "source": [
    "# code\n",
    "a.shape"
   ]
  },
  {
   "cell_type": "code",
   "execution_count": 29,
   "id": "5bfb92c2",
   "metadata": {},
   "outputs": [
    {
     "data": {
      "text/plain": [
       "(1, 15)"
      ]
     },
     "execution_count": 29,
     "metadata": {},
     "output_type": "execute_result"
    }
   ],
   "source": [
    "np.expand_dims(a,axis=0).shape"
   ]
  },
  {
   "cell_type": "markdown",
   "id": "3f989549",
   "metadata": {},
   "source": [
    "# np.where\n",
    "The numpy.where() function returns the indices of elements in an input array where the given condition is satisfied.\n",
    "\n",
    "https://numpy.org/doc/stable/reference/generated/numpy.where.html"
   ]
  },
  {
   "cell_type": "code",
   "execution_count": 41,
   "id": "7037df0f",
   "metadata": {},
   "outputs": [
    {
     "data": {
      "text/plain": [
       "array([49, 77, 19, 95, 91, 75,  7, 72, 16, 76, 19, 56, 17, 97, 85])"
      ]
     },
     "execution_count": 41,
     "metadata": {},
     "output_type": "execute_result"
    }
   ],
   "source": [
    "a"
   ]
  },
  {
   "cell_type": "code",
   "execution_count": 38,
   "id": "16af4a3d",
   "metadata": {},
   "outputs": [
    {
     "data": {
      "text/plain": [
       "(array([ 1,  3,  4,  5,  7,  9, 11, 13, 14], dtype=int64),)"
      ]
     },
     "execution_count": 38,
     "metadata": {},
     "output_type": "execute_result"
    }
   ],
   "source": [
    "# find all indices with value greater than 50\n",
    "np.where(a>50)"
   ]
  },
  {
   "cell_type": "code",
   "execution_count": 39,
   "id": "dac2afc3",
   "metadata": {},
   "outputs": [
    {
     "data": {
      "text/plain": [
       "array([49,  0, 19,  0,  0,  0,  7,  0, 16,  0, 19,  0, 17,  0,  0])"
      ]
     },
     "execution_count": 39,
     "metadata": {},
     "output_type": "execute_result"
    }
   ],
   "source": [
    "# replace all values > 50 with 0\n",
    "# np.where(condition,if true,else false)\n",
    "np.where(a>50,0,a)"
   ]
  },
  {
   "cell_type": "code",
   "execution_count": 42,
   "id": "e33064c2",
   "metadata": {},
   "outputs": [
    {
     "data": {
      "text/plain": [
       "array([49, 77, 19, 95, 91, 75,  7,  0,  0,  0, 19,  0, 17, 97, 85])"
      ]
     },
     "execution_count": 42,
     "metadata": {},
     "output_type": "execute_result"
    }
   ],
   "source": [
    "np.where(a%2==0,0,a)"
   ]
  },
  {
   "cell_type": "markdown",
   "id": "88930dec",
   "metadata": {},
   "source": [
    "# np.argmax\n",
    "The numpy.argmax() function returns indices of the max element of the array in a particular axis.\n",
    "\n",
    "https://numpy.org/doc/stable/reference/generated/numpy.argmax.html\n",
    "\n"
   ]
  },
  {
   "cell_type": "code",
   "execution_count": 43,
   "id": "af5c64be",
   "metadata": {},
   "outputs": [
    {
     "data": {
      "text/plain": [
       "array([49, 77, 19, 95, 91, 75,  7, 72, 16, 76, 19, 56, 17, 97, 85])"
      ]
     },
     "execution_count": 43,
     "metadata": {},
     "output_type": "execute_result"
    }
   ],
   "source": [
    "# code\n",
    "a"
   ]
  },
  {
   "cell_type": "code",
   "execution_count": 44,
   "id": "f3fe94f0",
   "metadata": {},
   "outputs": [
    {
     "data": {
      "text/plain": [
       "13"
      ]
     },
     "execution_count": 44,
     "metadata": {},
     "output_type": "execute_result"
    }
   ],
   "source": [
    "np.argmax(a)"
   ]
  },
  {
   "cell_type": "code",
   "execution_count": 45,
   "id": "089328d7",
   "metadata": {},
   "outputs": [
    {
     "data": {
      "text/plain": [
       "array([[32, 85, 17, 29],\n",
       "       [89, 72, 70,  8],\n",
       "       [32, 28, 46, 61],\n",
       "       [53, 64, 13, 72],\n",
       "       [99, 40, 25, 78],\n",
       "       [41, 32,  6, 75]])"
      ]
     },
     "execution_count": 45,
     "metadata": {},
     "output_type": "execute_result"
    }
   ],
   "source": [
    "b"
   ]
  },
  {
   "cell_type": "code",
   "execution_count": 51,
   "id": "b062c1db",
   "metadata": {},
   "outputs": [
    {
     "data": {
      "text/plain": [
       "array([4, 0, 1, 4], dtype=int64)"
      ]
     },
     "execution_count": 51,
     "metadata": {},
     "output_type": "execute_result"
    }
   ],
   "source": [
    "np.argmax(b,axis=0)"
   ]
  },
  {
   "cell_type": "code",
   "execution_count": 54,
   "id": "a02b0e07",
   "metadata": {},
   "outputs": [
    {
     "name": "stdout",
     "output_type": "stream",
     "text": [
      "[49 77 19 95 91 75  7 72 16 76 19 56 17 97 85]\n"
     ]
    },
    {
     "data": {
      "text/plain": [
       "6"
      ]
     },
     "execution_count": 54,
     "metadata": {},
     "output_type": "execute_result"
    }
   ],
   "source": [
    "# argmin\n",
    "print(a)\n",
    "np.argmin(a)"
   ]
  },
  {
   "cell_type": "markdown",
   "id": "f90615a9",
   "metadata": {},
   "source": [
    "# np.cumsum\n",
    "numpy.cumsum() function is used when we want to compute the cumulative sum of array elements over a given axis.\n",
    "\n",
    "https://numpy.org/doc/stable/reference/generated/numpy.cumsum.html"
   ]
  },
  {
   "cell_type": "code",
   "execution_count": 55,
   "id": "40c5241e",
   "metadata": {},
   "outputs": [
    {
     "data": {
      "text/plain": [
       "array([49, 77, 19, 95, 91, 75,  7, 72, 16, 76, 19, 56, 17, 97, 85])"
      ]
     },
     "execution_count": 55,
     "metadata": {},
     "output_type": "execute_result"
    }
   ],
   "source": [
    "a"
   ]
  },
  {
   "cell_type": "code",
   "execution_count": 56,
   "id": "63daa33a",
   "metadata": {},
   "outputs": [
    {
     "data": {
      "text/plain": [
       "array([ 49, 126, 145, 240, 331, 406, 413, 485, 501, 577, 596, 652, 669,\n",
       "       766, 851], dtype=int32)"
      ]
     },
     "execution_count": 56,
     "metadata": {},
     "output_type": "execute_result"
    }
   ],
   "source": [
    "np.cumsum(a)"
   ]
  },
  {
   "cell_type": "code",
   "execution_count": 57,
   "id": "9fc3ff1d",
   "metadata": {},
   "outputs": [
    {
     "data": {
      "text/plain": [
       "array([[32, 85, 17, 29],\n",
       "       [89, 72, 70,  8],\n",
       "       [32, 28, 46, 61],\n",
       "       [53, 64, 13, 72],\n",
       "       [99, 40, 25, 78],\n",
       "       [41, 32,  6, 75]])"
      ]
     },
     "execution_count": 57,
     "metadata": {},
     "output_type": "execute_result"
    }
   ],
   "source": [
    "b"
   ]
  },
  {
   "cell_type": "code",
   "execution_count": 61,
   "id": "3ea76b3e",
   "metadata": {},
   "outputs": [
    {
     "data": {
      "text/plain": [
       "array([[ 32,  85,  17,  29],\n",
       "       [121, 157,  87,  37],\n",
       "       [153, 185, 133,  98],\n",
       "       [206, 249, 146, 170],\n",
       "       [305, 289, 171, 248],\n",
       "       [346, 321, 177, 323]], dtype=int32)"
      ]
     },
     "execution_count": 61,
     "metadata": {},
     "output_type": "execute_result"
    }
   ],
   "source": [
    "np.cumsum(b,axis=0)"
   ]
  },
  {
   "cell_type": "code",
   "execution_count": 62,
   "id": "9c6181b6",
   "metadata": {},
   "outputs": [
    {
     "data": {
      "text/plain": [
       "array([         49,        3773,       71687,     6810265,   619734115,\n",
       "        -764581631, -1057104121,  1197914616,  1986764672,   670259712,\n",
       "        -149967360,   191762432, -1035005952, -1611329536,   475942912],\n",
       "      dtype=int32)"
      ]
     },
     "execution_count": 62,
     "metadata": {},
     "output_type": "execute_result"
    }
   ],
   "source": [
    "# np.cumprod\n",
    "np.cumprod(a)"
   ]
  },
  {
   "cell_type": "markdown",
   "id": "bd606f9c",
   "metadata": {},
   "source": [
    "# np.percentile\n",
    "numpy.percentile()function used to compute the nth percentile of the given data (array elements) along the specified axis.\n",
    "\n",
    "https://numpy.org/doc/stable/reference/generated/numpy.percentile.html"
   ]
  },
  {
   "cell_type": "code",
   "execution_count": 63,
   "id": "36704754",
   "metadata": {},
   "outputs": [
    {
     "data": {
      "text/plain": [
       "array([49, 77, 19, 95, 91, 75,  7, 72, 16, 76, 19, 56, 17, 97, 85])"
      ]
     },
     "execution_count": 63,
     "metadata": {},
     "output_type": "execute_result"
    }
   ],
   "source": [
    "a"
   ]
  },
  {
   "cell_type": "code",
   "execution_count": 69,
   "id": "00deafdc",
   "metadata": {},
   "outputs": [
    {
     "data": {
      "text/plain": [
       "72.0"
      ]
     },
     "execution_count": 69,
     "metadata": {},
     "output_type": "execute_result"
    }
   ],
   "source": [
    "np.percentile(a,50)"
   ]
  },
  {
   "cell_type": "code",
   "execution_count": 68,
   "id": "b1b9d2d3",
   "metadata": {},
   "outputs": [
    {
     "data": {
      "text/plain": [
       "72.0"
      ]
     },
     "execution_count": 68,
     "metadata": {},
     "output_type": "execute_result"
    }
   ],
   "source": [
    "np.median(a)"
   ]
  },
  {
   "cell_type": "markdown",
   "id": "0fc27880",
   "metadata": {},
   "source": [
    "# np.histogram\n",
    "Numpy has a built-in numpy.histogram() function which represents the frequency of data distribution in the graphical form.\n",
    "\n",
    "https://numpy.org/doc/stable/reference/generated/numpy.histogram.html"
   ]
  },
  {
   "cell_type": "code",
   "execution_count": 70,
   "id": "a21eac34",
   "metadata": {},
   "outputs": [
    {
     "data": {
      "text/plain": [
       "array([49, 77, 19, 95, 91, 75,  7, 72, 16, 76, 19, 56, 17, 97, 85])"
      ]
     },
     "execution_count": 70,
     "metadata": {},
     "output_type": "execute_result"
    }
   ],
   "source": [
    "# code\n",
    "a"
   ]
  },
  {
   "cell_type": "code",
   "execution_count": 71,
   "id": "9d8c1bce",
   "metadata": {},
   "outputs": [
    {
     "data": {
      "text/plain": [
       "(array([1, 4, 0, 0, 1, 1, 0, 4, 1, 3], dtype=int64),\n",
       " array([  0,  10,  20,  30,  40,  50,  60,  70,  80,  90, 100]))"
      ]
     },
     "execution_count": 71,
     "metadata": {},
     "output_type": "execute_result"
    }
   ],
   "source": [
    "np.histogram(a,bins = [0,10,20,30,40,50,60,70,80,90,100])"
   ]
  },
  {
   "cell_type": "markdown",
   "id": "8493f8af",
   "metadata": {},
   "source": [
    "# np.corrcoef\n",
    "Return Pearson product-moment correlation coefficients.\n",
    "\n",
    "https://numpy.org/doc/stable/reference/generated/numpy.corrcoef.html"
   ]
  },
  {
   "cell_type": "code",
   "execution_count": 72,
   "id": "3a05ba37",
   "metadata": {},
   "outputs": [
    {
     "data": {
      "text/plain": [
       "array([[1.        , 0.25344572],\n",
       "       [0.25344572, 1.        ]])"
      ]
     },
     "execution_count": 72,
     "metadata": {},
     "output_type": "execute_result"
    }
   ],
   "source": [
    "salary = np.array([20000,40000,25000,35000,60000])\n",
    "experience = np.array([1,3,2,4,2])\n",
    "\n",
    "np.corrcoef(salary,experience)"
   ]
  },
  {
   "cell_type": "markdown",
   "id": "12e15131",
   "metadata": {},
   "source": [
    "# np.isin\n",
    "With the help of numpy.isin() method, we can see that one array having values are checked in a different numpy array having different elements with different sizes.\n",
    "\n",
    "https://numpy.org/doc/stable/reference/generated/numpy.isin.html"
   ]
  },
  {
   "cell_type": "code",
   "execution_count": 73,
   "id": "2c982b18",
   "metadata": {},
   "outputs": [
    {
     "data": {
      "text/plain": [
       "array([49, 77, 19, 95, 91, 75,  7, 72, 16, 76, 19, 56, 17, 97, 85])"
      ]
     },
     "execution_count": 73,
     "metadata": {},
     "output_type": "execute_result"
    }
   ],
   "source": [
    "a"
   ]
  },
  {
   "cell_type": "code",
   "execution_count": 75,
   "id": "f0e62dad",
   "metadata": {},
   "outputs": [
    {
     "data": {
      "text/plain": [
       "array([False, False,  True, False, False, False, False, False, False,\n",
       "       False,  True, False, False, False,  True])"
      ]
     },
     "execution_count": 75,
     "metadata": {},
     "output_type": "execute_result"
    }
   ],
   "source": [
    "items = [19,20,30,40,50,60,70,85,100]\n",
    "\n",
    "np.isin(a,items)"
   ]
  },
  {
   "cell_type": "code",
   "execution_count": 76,
   "id": "dcc2e40a",
   "metadata": {},
   "outputs": [
    {
     "data": {
      "text/plain": [
       "array([19, 19, 85])"
      ]
     },
     "execution_count": 76,
     "metadata": {},
     "output_type": "execute_result"
    }
   ],
   "source": [
    "a[np.isin(a,items)]"
   ]
  },
  {
   "cell_type": "markdown",
   "id": "38fdef93",
   "metadata": {},
   "source": [
    "# np.flip\n",
    "The numpy.flip() function reverses the order of array elements along the specified axis, preserving the shape of the array.\n",
    "\n",
    "https://numpy.org/doc/stable/reference/generated/numpy.flip.html"
   ]
  },
  {
   "cell_type": "code",
   "execution_count": 77,
   "id": "e90c2bc1",
   "metadata": {},
   "outputs": [
    {
     "data": {
      "text/plain": [
       "array([49, 77, 19, 95, 91, 75,  7, 72, 16, 76, 19, 56, 17, 97, 85])"
      ]
     },
     "execution_count": 77,
     "metadata": {},
     "output_type": "execute_result"
    }
   ],
   "source": [
    "# code\n",
    "a"
   ]
  },
  {
   "cell_type": "code",
   "execution_count": 78,
   "id": "d359b05e",
   "metadata": {},
   "outputs": [
    {
     "data": {
      "text/plain": [
       "array([85, 97, 17, 56, 19, 76, 16, 72,  7, 75, 91, 95, 19, 77, 49])"
      ]
     },
     "execution_count": 78,
     "metadata": {},
     "output_type": "execute_result"
    }
   ],
   "source": [
    "np.flip(a)"
   ]
  },
  {
   "cell_type": "code",
   "execution_count": 79,
   "id": "45cbf2be",
   "metadata": {},
   "outputs": [
    {
     "data": {
      "text/plain": [
       "array([[32, 85, 17, 29],\n",
       "       [89, 72, 70,  8],\n",
       "       [32, 28, 46, 61],\n",
       "       [53, 64, 13, 72],\n",
       "       [99, 40, 25, 78],\n",
       "       [41, 32,  6, 75]])"
      ]
     },
     "execution_count": 79,
     "metadata": {},
     "output_type": "execute_result"
    }
   ],
   "source": [
    "b"
   ]
  },
  {
   "cell_type": "code",
   "execution_count": 81,
   "id": "82825dfc",
   "metadata": {},
   "outputs": [
    {
     "data": {
      "text/plain": [
       "array([[41, 32,  6, 75],\n",
       "       [99, 40, 25, 78],\n",
       "       [53, 64, 13, 72],\n",
       "       [32, 28, 46, 61],\n",
       "       [89, 72, 70,  8],\n",
       "       [32, 85, 17, 29]])"
      ]
     },
     "execution_count": 81,
     "metadata": {},
     "output_type": "execute_result"
    }
   ],
   "source": [
    "np.flip(b,axis=0)"
   ]
  },
  {
   "cell_type": "markdown",
   "id": "7e936883",
   "metadata": {},
   "source": [
    "# np.put\n",
    "The numpy.put() function replaces specific elements of an array with given values of p_array. Array indexed works on flattened array.\n",
    "\n",
    "https://numpy.org/doc/stable/reference/generated/numpy.put.html"
   ]
  },
  {
   "cell_type": "code",
   "execution_count": 82,
   "id": "c2b5cd26",
   "metadata": {},
   "outputs": [
    {
     "data": {
      "text/plain": [
       "array([49, 77, 19, 95, 91, 75,  7, 72, 16, 76, 19, 56, 17, 97, 85])"
      ]
     },
     "execution_count": 82,
     "metadata": {},
     "output_type": "execute_result"
    }
   ],
   "source": [
    "# code\n",
    "a"
   ]
  },
  {
   "cell_type": "code",
   "execution_count": 83,
   "id": "7740a179",
   "metadata": {},
   "outputs": [],
   "source": [
    "np.put(a,[0,1],[101,22])"
   ]
  },
  {
   "cell_type": "code",
   "execution_count": 84,
   "id": "53a26006",
   "metadata": {},
   "outputs": [
    {
     "data": {
      "text/plain": [
       "array([101,  22,  19,  95,  91,  75,   7,  72,  16,  76,  19,  56,  17,\n",
       "        97,  85])"
      ]
     },
     "execution_count": 84,
     "metadata": {},
     "output_type": "execute_result"
    }
   ],
   "source": [
    "a"
   ]
  },
  {
   "cell_type": "markdown",
   "id": "5d51747c",
   "metadata": {},
   "source": [
    "# np.delete\n",
    "The numpy.delete() function returns a new array with the deletion of sub-arrays along with the mentioned axis.\n",
    "\n",
    "https://numpy.org/doc/stable/reference/generated/numpy.delete.html"
   ]
  },
  {
   "cell_type": "code",
   "execution_count": 85,
   "id": "32646343",
   "metadata": {},
   "outputs": [
    {
     "data": {
      "text/plain": [
       "array([101,  22,  19,  95,  91,  75,   7,  72,  16,  76,  19,  56,  17,\n",
       "        97,  85])"
      ]
     },
     "execution_count": 85,
     "metadata": {},
     "output_type": "execute_result"
    }
   ],
   "source": [
    "# code\n",
    "a"
   ]
  },
  {
   "cell_type": "code",
   "execution_count": 86,
   "id": "0eefcba8",
   "metadata": {},
   "outputs": [
    {
     "data": {
      "text/plain": [
       "array([19, 95, 91, 75,  7, 72, 16, 76, 19, 56, 17, 97, 85])"
      ]
     },
     "execution_count": 86,
     "metadata": {},
     "output_type": "execute_result"
    }
   ],
   "source": [
    "np.delete(a,[0,1])"
   ]
  },
  {
   "cell_type": "markdown",
   "id": "4bc0c5bb",
   "metadata": {},
   "source": [
    "# Set functions\n",
    "- np.union1d\n",
    "- np.intersect1d\n",
    "- np.setdiff1d\n",
    "- np.setxor1d\n",
    "- np.in1d"
   ]
  },
  {
   "cell_type": "code",
   "execution_count": 87,
   "id": "00e2f3c9",
   "metadata": {},
   "outputs": [
    {
     "data": {
      "text/plain": [
       "array([1, 2, 3, 4, 5, 6, 7])"
      ]
     },
     "execution_count": 87,
     "metadata": {},
     "output_type": "execute_result"
    }
   ],
   "source": [
    "m = np.array([1,2,3,4,5])\n",
    "n = np.array([2,4,6,7,2])\n",
    "\n",
    "np.union1d(m,n)"
   ]
  },
  {
   "cell_type": "code",
   "execution_count": 88,
   "id": "7d20a538",
   "metadata": {},
   "outputs": [
    {
     "data": {
      "text/plain": [
       "array([2, 4])"
      ]
     },
     "execution_count": 88,
     "metadata": {},
     "output_type": "execute_result"
    }
   ],
   "source": [
    "np.intersect1d(m,n)"
   ]
  },
  {
   "cell_type": "code",
   "execution_count": 89,
   "id": "09ddbcb6",
   "metadata": {},
   "outputs": [
    {
     "data": {
      "text/plain": [
       "array([1, 3, 5])"
      ]
     },
     "execution_count": 89,
     "metadata": {},
     "output_type": "execute_result"
    }
   ],
   "source": [
    "np.setdiff1d(m,n)"
   ]
  },
  {
   "cell_type": "code",
   "execution_count": 90,
   "id": "1dae82d8",
   "metadata": {},
   "outputs": [
    {
     "data": {
      "text/plain": [
       "array([1, 3, 5, 6, 7])"
      ]
     },
     "execution_count": 90,
     "metadata": {},
     "output_type": "execute_result"
    }
   ],
   "source": [
    "# removes common element and stores all other\n",
    "np.setxor1d(m,n)"
   ]
  },
  {
   "cell_type": "code",
   "execution_count": 91,
   "id": "e1a70ce1",
   "metadata": {},
   "outputs": [
    {
     "data": {
      "text/plain": [
       "array([False,  True, False,  True, False])"
      ]
     },
     "execution_count": 91,
     "metadata": {},
     "output_type": "execute_result"
    }
   ],
   "source": [
    "np.in1d(m,n)"
   ]
  },
  {
   "cell_type": "code",
   "execution_count": 98,
   "id": "9d66618b",
   "metadata": {},
   "outputs": [
    {
     "data": {
      "text/plain": [
       "array([ True, False, False, False,  True])"
      ]
     },
     "execution_count": 98,
     "metadata": {},
     "output_type": "execute_result"
    }
   ],
   "source": [
    "np.in1d(n,2)"
   ]
  },
  {
   "cell_type": "code",
   "execution_count": 97,
   "id": "e5f2ad0a",
   "metadata": {},
   "outputs": [
    {
     "data": {
      "text/plain": [
       "array([2, 2])"
      ]
     },
     "execution_count": 97,
     "metadata": {},
     "output_type": "execute_result"
    }
   ],
   "source": [
    "n[np.in1d(n,2)]"
   ]
  },
  {
   "cell_type": "markdown",
   "id": "d1957ce0",
   "metadata": {},
   "source": [
    "# np.clip\n",
    "numpy.clip() function is used to Clip (limit) the values in an array.\n",
    "\n",
    "https://numpy.org/doc/stable/reference/generated/numpy.clip.html"
   ]
  },
  {
   "cell_type": "code",
   "execution_count": 99,
   "id": "91dbfd20",
   "metadata": {},
   "outputs": [
    {
     "data": {
      "text/plain": [
       "array([101,  22,  19,  95,  91,  75,   7,  72,  16,  76,  19,  56,  17,\n",
       "        97,  85])"
      ]
     },
     "execution_count": 99,
     "metadata": {},
     "output_type": "execute_result"
    }
   ],
   "source": [
    "a"
   ]
  },
  {
   "cell_type": "code",
   "execution_count": 100,
   "id": "6260357c",
   "metadata": {},
   "outputs": [
    {
     "data": {
      "text/plain": [
       "array([75, 25, 25, 75, 75, 75, 25, 72, 25, 75, 25, 56, 25, 75, 75])"
      ]
     },
     "execution_count": 100,
     "metadata": {},
     "output_type": "execute_result"
    }
   ],
   "source": [
    "np.clip(a,a_min = 25,a_max=75)"
   ]
  },
  {
   "cell_type": "code",
   "execution_count": 105,
   "id": "d481f49d",
   "metadata": {},
   "outputs": [
    {
     "name": "stdout",
     "output_type": "stream",
     "text": [
      "[[[0 1]\n",
      "  [2 3]]\n",
      "\n",
      " [[4 5]\n",
      "  [6 7]]] \n",
      "\n",
      "[[[0 4]\n",
      "  [2 6]]\n",
      "\n",
      " [[1 5]\n",
      "  [3 7]]]\n"
     ]
    }
   ],
   "source": [
    "# np.swapaxes\n",
    "arr = np.array([[[0,1],[2,3]],[[4,5],[6,7]]])\n",
    "print(arr,'\\n')\n",
    "\n",
    "swap = np.swapaxes(arr,0,2)\n",
    "print(swap)"
   ]
  },
  {
   "cell_type": "code",
   "execution_count": 106,
   "id": "f141a5e9",
   "metadata": {},
   "outputs": [
    {
     "data": {
      "image/png": "[encoded data removed]",
      "text/plain": [
       "<Figure size 432x288 with 1 Axes>"
      ]
     },
     "metadata": {
      "needs_background": "light"
     },
     "output_type": "display_data"
    }
   ],
   "source": [
    "# np.uniform\n",
    "\n",
    "import matplotlib.pyplot as plt\n",
    "  \n",
    "# Using uniform() method\n",
    "gfg = np.random.uniform(-5, 5, 5000)\n",
    "  \n",
    "plt.hist(gfg, bins = 50, density = True)\n",
    "plt.show()"
   ]
  },
  {
   "cell_type": "code",
   "execution_count": 107,
   "id": "892108e5",
   "metadata": {},
   "outputs": [
    {
     "name": "stdout",
     "output_type": "stream",
     "text": [
      "Arr 1 Zero:  6\n",
      "Arr 2 Zero:  0\n"
     ]
    }
   ],
   "source": [
    "# np.count_nonzero\n",
    "\n",
    "arr1 = np.array([1, 2, 3, 4, 5, 6, 0])\n",
    "arr2 = np.array([0, 0, 0, 0, 0, 0])\n",
    "\n",
    "print('Arr 1 Zero: ',np.count_nonzero(arr1))\n",
    "print('Arr 2 Zero: ',np.count_nonzero(arr2))"
   ]
  },
  {
   "cell_type": "markdown",
   "id": "1a4a702a",
   "metadata": {},
   "source": [
    "# np.repeat\n",
    "https://towardsdatascience.com/10-numpy-functions-you-should-know-1dc4863764c5"
   ]
  },
  {
   "cell_type": "code",
   "execution_count": 110,
   "id": "e5464de0",
   "metadata": {},
   "outputs": [
    {
     "data": {
      "text/plain": [
       "array([1, 1, 1, 2, 2, 2, 3, 3, 3])"
      ]
     },
     "execution_count": 110,
     "metadata": {},
     "output_type": "execute_result"
    }
   ],
   "source": [
    "arr = np.array([1,2,3])\n",
    "np.repeat(arr, 3)"
   ]
  },
  {
   "cell_type": "markdown",
   "id": "1dc33e39",
   "metadata": {},
   "source": [
    "# np.tile\n",
    "https://www.kaggle.com/code/abhayparashar31/best-numpy-functions-for-data-science-50?scriptVersionId=98816580"
   ]
  },
  {
   "cell_type": "code",
   "execution_count": 111,
   "id": "964f499c",
   "metadata": {},
   "outputs": [
    {
     "data": {
      "text/plain": [
       "array([1, 2, 3, 1, 2, 3, 1, 2, 3])"
      ]
     },
     "execution_count": 111,
     "metadata": {},
     "output_type": "execute_result"
    }
   ],
   "source": [
    "arr = np.array([1,2,3])\n",
    "np.tile(arr, 3)"
   ]
  },
  {
   "cell_type": "markdown",
   "id": "e904080b",
   "metadata": {},
   "source": [
    "# np.allclose and equals"
   ]
  },
  {
   "cell_type": "code",
   "execution_count": 112,
   "id": "cf400af5",
   "metadata": {},
   "outputs": [
    {
     "name": "stdout",
     "output_type": "stream",
     "text": [
      "1st Input array :  [5.000000e+05 1.000000e-07 4.000004e+06]\n",
      "2nd Input array :  [5.00001e+05 1.00000e-07 4.00000e+06]\n",
      "Are the two arrays are equal within the tolerance: \t False\n"
     ]
    }
   ],
   "source": [
    "arr1 = np.array([5e5, 1e-7, 4.000004e6])\n",
    "print (\"1st Input array : \", arr1) \n",
    "  \n",
    "arr2 = np.array([5.00001e5, 1e-7, 4e6])\n",
    "print (\"2nd Input array : \", arr2) \n",
    "  \n",
    "# setting the absolute and relative tolerance\n",
    "rtol = 1e-06\n",
    "atol = 1e-09\n",
    "  \n",
    "res = np.allclose(arr1, arr2, rtol, atol)\n",
    "print (\"Are the two arrays are equal within the tolerance: \\t\", res)"
   ]
  },
  {
   "cell_type": "code",
   "execution_count": 113,
   "id": "3a705890",
   "metadata": {},
   "outputs": [
    {
     "name": "stdout",
     "output_type": "stream",
     "text": [
      "Check to be Equal : \n",
      " [ True False] \n",
      "\n",
      "Check to be Equal : \n",
      " [[ True False]\n",
      " [ True False]] \n",
      "\n"
     ]
    }
   ],
   "source": [
    "arr1  = np.equal([1., 2.], [1., 3.])\n",
    "print(\"Check to be Equal : \\n\", arr1, \"\\n\")\n",
    "  \n",
    "arr2 = np.equal([1, 2], [[1, 3],[1, 4]])\n",
    "print(\"Check to be Equal : \\n\", arr2, \"\\n\")"
   ]
  },
  {
   "cell_type": "code",
   "execution_count": null,
   "id": "88291684",
   "metadata": {},
   "outputs": [],
   "source": []
  }
 ],
 "metadata": {
  "kernelspec": {
   "display_name": "Python 3 (ipykernel)",
   "language": "python",
   "name": "python3"
  },
  "language_info": {
   "codemirror_mode": {
    "name": "ipython",
    "version": 3
   },
   "file_extension": ".py",
   "mimetype": "text/x-python",
   "name": "python",
   "nbconvert_exporter": "python",
   "pygments_lexer": "ipython3",
   "version": "3.9.12"
  }
 },
 "nbformat": 4,
 "nbformat_minor": 5
}
