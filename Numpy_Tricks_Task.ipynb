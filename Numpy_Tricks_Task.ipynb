{
 "cells": [
  {
   "cell_type": "markdown",
   "metadata": {
    "id": "J88qfqQEk_sT"
   },
   "source": [
    "###`Q-1:` Create a random 3x4 matrix with value between 0-100. And perform below tasks\n",
    "\n",
    "    i. Sort this matrix. np.sort()\n",
    "    ii. Sort this matrix based on values in 2nd column.\n",
    "    iii. Sort this matrix based on max value in each row.\n",
    "    iv. Sort based on elements value.\n"
   ]
  },
  {
   "cell_type": "markdown",
   "metadata": {
    "id": "xpOwOdhqlE9R"
   },
   "source": [
    "See examples:\n",
    "```\n",
    "arr = \n",
    "    [[92 90 74]\n",
    "    [ 6 63 93]\n",
    "    [15 93 96]\n",
    "    [70 60 48]]\n",
    "```\n",
    "```\n",
    "i. np.sort\n",
    "[[74 90 92]\n",
    " [ 6 63 93]\n",
    " [15 93 96]\n",
    " [48 60 70]]\n",
    "\n",
    "ii. based on 2nd column\n",
    "[[70 60 48]\n",
    " [ 6 63 93]\n",
    " [92 90 74]\n",
    " [15 93 96]]\n",
    "\n",
    "iii. based on row max- ascending\n",
    "[[15 93 96]\n",
    " [ 6 63 93]\n",
    " [92 90 74]\n",
    " [70 60 48]]\n",
    "\n",
    "iv. based on elements value\n",
    "[[ 6 15 48]\n",
    " [60 63 70]\n",
    " [74 90 92]\n",
    " [93 93 96]]\n",
    "\n",
    "```"
   ]
  },
  {
   "cell_type": "code",
   "execution_count": 229,
   "metadata": {
    "id": "Auy-guUwlALv"
   },
   "outputs": [
    {
     "data": {
      "text/plain": [
       "array([[ 6, 15, 48],\n",
       "       [60, 63, 70],\n",
       "       [74, 90, 92],\n",
       "       [93, 93, 96]])"
      ]
     },
     "execution_count": 229,
     "metadata": {},
     "output_type": "execute_result"
    }
   ],
   "source": [
    "# code here\n",
    "import numpy as np\n",
    "arr = np.array([[92, 90, 74],\n",
    "                [ 6, 63, 93],\n",
    "                [15, 93, 96],\n",
    "                [70, 60, 48]])\n",
    "    \n",
    "    \n",
    "# print(np.sort(arr))\n",
    "\n",
    "# arr[arr[:,1].argsort()]\n",
    "\n",
    "# np.array(sorted(arr,key = lambda x: max(x),reverse=True))\n",
    "\n",
    "np.sort(arr,axis=None).reshape(arr.shape)\n",
    "\n",
    "# np.sort(arr.ravel()).reshape(arr.shape)"
   ]
  },
  {
   "cell_type": "markdown",
   "metadata": {
    "id": "Jx_I3gx9lBay"
   },
   "source": [
    "###`Q-2:` There is an array of marks of 5 students in 4 subjects. Further you are asked to perform below task.\n",
    "- i. Add marks to every student of an extra subject in the same array.\n",
    "- ii. Add two new students marks in respective 5 subjects.(one subject added in above task)\n",
    "- iii. Add extra column with sum of all subjects(5-subjects) marks\n",
    "- iv. Sort the array(non-ascending order) on total marks column--one added in above task. Show top 2 rows.\n",
    "\n",
    "Note: Change dimension of arrays during concatenation or appending if required."
   ]
  },
  {
   "cell_type": "markdown",
   "metadata": {
    "id": "lXF-CE6ylNIw"
   },
   "source": [
    "Given Array-\n",
    "```\n",
    "marks = [[13, 10,  9, 33],\n",
    "       [63, 46, 90, 42],\n",
    "       [39, 76, 13, 29],\n",
    "       [82,  9, 29, 78],\n",
    "       [67, 61, 59, 36]]\n",
    "\n",
    "extra_subject = [41, 87, 72, 36, 92]\n",
    "#Two extra students record-\n",
    "rec1 = [77, 83, 98, 95, 89]\n",
    "rec2 = [92, 71, 52, 61, 53]\n",
    "```"
   ]
  },
  {
   "cell_type": "code",
   "execution_count": 242,
   "metadata": {
    "id": "7YKsWO2olMkq"
   },
   "outputs": [
    {
     "name": "stdout",
     "output_type": "stream",
     "text": [
      "Toppers: \n",
      " [[ 92  71  52  61  53 329]\n",
      " [ 77  83  98  95  89 442]]\n"
     ]
    }
   ],
   "source": [
    "# code here\n",
    "arr = [[13, 10,  9, 33],\n",
    "       [63, 46, 90, 42],\n",
    "       [39, 76, 13, 29],\n",
    "       [82,  9, 29, 78],\n",
    "       [67, 61, 59, 36]]\n",
    "\n",
    "ex_sub = np.array([41, 87, 72, 36, 92]).reshape(-1,1)\n",
    "\n",
    "new_arr = np.append(arr,ex_sub,axis=1)\n",
    "new_arr\n",
    "#2\n",
    "rec1 = [77, 83, 98, 95, 89]\n",
    "rec2 = [92, 71, 52, 61, 53]\n",
    "\n",
    "new_arr = np.vstack((new_arr,rec1,rec2))\n",
    "new_arr\n",
    "#3\n",
    "total = np.cumsum(new_arr,axis=1)[:,4].reshape(7,1)\n",
    "\n",
    "final_arr = np.append(new_arr,total,axis=1)\n",
    "\n",
    "sort_marks = final_arr[final_arr[:,5].argsort()]\n",
    "#4\n",
    "print(\"Toppers: \\n\" ,sort_marks[-2:])"
   ]
  },
  {
   "cell_type": "code",
   "execution_count": 244,
   "metadata": {},
   "outputs": [
    {
     "name": "stdout",
     "output_type": "stream",
     "text": [
      "[[ 77  83  98  95  89 442]\n",
      " [ 92  71  52  61  53 329]]\n"
     ]
    }
   ],
   "source": [
    "# code here\n",
    "marks = np.array([[13, 10,  9, 33],\n",
    "       [63, 46, 90, 42],\n",
    "       [39, 76, 13, 29],\n",
    "       [82,  9, 29, 78],\n",
    "       [67, 61, 59, 36]])\n",
    "extra_subject = np.array([41, 87, 72, 36, 92]).reshape(-1, 1)\n",
    "marks = np.concatenate([marks, extra_subject], axis = 1)\n",
    "#2\n",
    "rec1 = np.array([77, 83, 98, 95, 89]).reshape(1, -1)\n",
    "rec2 = np.array( [92, 71, 52, 61, 53]).reshape(1, -1)\n",
    "marks = np.concatenate([marks, rec1, rec2], axis = 0)\n",
    "#3\n",
    "sum_of_stud = marks.sum(axis = 1, keepdims=True)\n",
    "marks = np.concatenate([marks, sum_of_stud], axis = 1)\n",
    "#4\n",
    "print(np.array(sorted(marks, key = lambda x: x[-1], reverse=True))[:2])"
   ]
  },
  {
   "cell_type": "markdown",
   "metadata": {
    "id": "VmOyK_8klRqR"
   },
   "source": [
    "###`Q-3:` Find unique arrays from a 2D array column wise and row wise.\n",
    "```\n",
    "arr = np.array([[1,2,3,3,1,1],\n",
    "                [0,9,1,2,8,8],\n",
    "                [1,2,3,8,8,8],\n",
    "                [1,2,3,3,1,1]])\n",
    "```\n",
    "Expected Result-\n",
    "```\n",
    "Row Wise\n",
    "[[0 9 1 2 8 8]\n",
    " [1 2 3 3 1 1]\n",
    " [1 2 3 8 8 8]]\n",
    "\n",
    "Col Wise\n",
    "[[1 1 2 3 3]\n",
    " [0 8 9 1 2]\n",
    " [1 8 2 3 8]\n",
    " [1 1 2 3 3]]\n",
    "```"
   ]
  },
  {
   "cell_type": "code",
   "execution_count": 246,
   "metadata": {
    "id": "LJl10VQrlU5q"
   },
   "outputs": [
    {
     "data": {
      "text/plain": [
       "array([[0, 9, 1, 2, 8, 8],\n",
       "       [1, 2, 3, 3, 1, 1],\n",
       "       [1, 2, 3, 8, 8, 8]])"
      ]
     },
     "execution_count": 246,
     "metadata": {},
     "output_type": "execute_result"
    }
   ],
   "source": [
    "# code here\n",
    "arr = np.array([[1,2,3,3,1,1],\n",
    "                [0,9,1,2,8,8],\n",
    "                [1,2,3,8,8,8],\n",
    "                [1,2,3,3,1,1]])\n",
    "np.unique(arr,axis=1)\n",
    "np.unique(arr,axis=0)"
   ]
  },
  {
   "cell_type": "markdown",
   "metadata": {
    "id": "RaXwVkywlWY2"
   },
   "source": [
    "###`Q-4:` Flip given 2-D array along both axes at the same time."
   ]
  },
  {
   "cell_type": "code",
   "execution_count": 251,
   "metadata": {
    "id": "mN7-4G8Kleeq"
   },
   "outputs": [
    {
     "name": "stdout",
     "output_type": "stream",
     "text": [
      "[[1 2 3 3 1 1]\n",
      " [0 9 1 2 8 8]\n",
      " [1 2 3 8 8 8]\n",
      " [1 2 3 3 1 1]]\n"
     ]
    },
    {
     "data": {
      "text/plain": [
       "array([[1, 1, 3, 3, 2, 1],\n",
       "       [8, 8, 8, 3, 2, 1],\n",
       "       [8, 8, 2, 1, 9, 0],\n",
       "       [1, 1, 3, 3, 2, 1]])"
      ]
     },
     "execution_count": 251,
     "metadata": {},
     "output_type": "execute_result"
    }
   ],
   "source": [
    "# code here\n",
    "print(arr)\n",
    "\n",
    "# print(np.flip(np.flip(arr,axis=1),axis=0))\n",
    "np.flip(arr,axis=[0,1])"
   ]
  },
  {
   "cell_type": "markdown",
   "metadata": {
    "id": "X0S7BUNTlfoq"
   },
   "source": [
    "### `Q-5:` Get row numbers of NumPy array having element larger than X.\n",
    "```\n",
    "arr = [[1,2,3,4,5], \n",
    "      [10,-3,30,4,5], \n",
    "      [3,2,5,-4,5], \n",
    "      [9,7,3,6,5]] \n",
    "\n",
    "X = 6\n",
    "```"
   ]
  },
  {
   "cell_type": "code",
   "execution_count": 261,
   "metadata": {
    "id": "bi8jRmWhlkBU"
   },
   "outputs": [
    {
     "name": "stdout",
     "output_type": "stream",
     "text": [
      "[1 3]\n"
     ]
    },
    {
     "data": {
      "text/plain": [
       "array([[10, -3, 30,  4,  5],\n",
       "       [ 9,  7,  3,  6,  5]])"
      ]
     },
     "execution_count": 261,
     "metadata": {},
     "output_type": "execute_result"
    }
   ],
   "source": [
    "# code here\n",
    "arr = np.array([[1,2,3,4,5], \n",
    "      [10,-3,30,4,5], \n",
    "      [3,2,5,-4,5], \n",
    "      [9,7,3,6,5]]) \n",
    "rows,cols = np.where(arr>6)\n",
    "print(np.unique(rows))\n",
    "arr[np.unique(rows)]"
   ]
  },
  {
   "cell_type": "code",
   "execution_count": 265,
   "metadata": {},
   "outputs": [
    {
     "name": "stdout",
     "output_type": "stream",
     "text": [
      "[1 3]\n"
     ]
    }
   ],
   "source": [
    "print(np.where(np.any(arr > 6, axis=1))[0])"
   ]
  },
  {
   "cell_type": "markdown",
   "metadata": {
    "id": "DSCQMo4mlnDG"
   },
   "source": [
    "### `Q-6:` How to convert an array of arrays into a flat 1d array?\n"
   ]
  },
  {
   "cell_type": "code",
   "execution_count": 146,
   "metadata": {
    "id": "QZhSkUT2lsJW"
   },
   "outputs": [],
   "source": [
    "# These arrays are given.\n",
    "arr1 = np.arange(3)\n",
    "arr2 = np.arange(3,7)\n",
    "arr3 = np.arange(7,10)"
   ]
  },
  {
   "cell_type": "code",
   "execution_count": 181,
   "metadata": {
    "id": "f42OXNrFls0I",
    "scrolled": false
   },
   "outputs": [
    {
     "name": "stderr",
     "output_type": "stream",
     "text": [
      "C:\\Users\\Aniket\\AppData\\Local\\Temp\\ipykernel_19208\\2581723739.py:2: VisibleDeprecationWarning: Creating an ndarray from ragged nested sequences (which is a list-or-tuple of lists-or-tuples-or ndarrays with different lengths or shapes) is deprecated. If you meant to do this, you must specify 'dtype=object' when creating the ndarray.\n",
      "  all_arrays = np.array([arr1, arr2, arr3])\n"
     ]
    },
    {
     "data": {
      "text/plain": [
       "array([0, 1, 2, 3, 4, 5, 6, 7, 8, 9])"
      ]
     },
     "execution_count": 181,
     "metadata": {},
     "output_type": "execute_result"
    }
   ],
   "source": [
    "# code here\n",
    "all_arrays = np.array([arr1, arr2, arr3])\n",
    "np.concatenate(all_arrays)"
   ]
  },
  {
   "cell_type": "markdown",
   "metadata": {
    "id": "A1J4oOVCluqO"
   },
   "source": [
    "### `Q-7:` You are given a array. You have to find the minimum and maximum array element and remove that from the array.\n",
    "\n",
    "```python\n",
    "import numpy as np\n",
    "\n",
    "np.random.seed(400)\n",
    "arr = np.random.randint(100, 1000, 200).reshape((1, 200))\n",
    "```"
   ]
  },
  {
   "cell_type": "code",
   "execution_count": 267,
   "metadata": {
    "id": "c6kmgtUJlybZ"
   },
   "outputs": [
    {
     "name": "stdout",
     "output_type": "stream",
     "text": [
      "[[448 563 418 240 507 362 345 236 719 291 298 639 458 387 262 613 267 882\n",
      "  181 425 790 635 889 818 872 967 277 470 336 920 917 295 557 830 506 385\n",
      "  353 975 592 997 137 340 222 215 472 459 617 649 935 956 914 932 645 952\n",
      "  921 490 527 972 278 307 840 958 246 449 251 957 103 627 920 824 356 825\n",
      "  173 323 372 960 710 464 244 782 763 635 436 774 171 469 178 458 624 211\n",
      "  771 270 308 231 952 514 699 702 433 900 373 318 998 265 503 320 230 324\n",
      "  922 967 620 743 527 117 566 804 123 946 587 227 853 757 944 328 855 930\n",
      "  325 729 426 514 296 879 575 936 705 209 191 743 510 513 628 559 658 528\n",
      "  395 525 922 136 496 225 895 975 263 908 420 711 800 976 786 235 930 859\n",
      "  618 226 695 460 218 483 490 803 621 453 193 607 677 637 728 724 534 748\n",
      "  291 194 761 875 687 569 228 482 781 554 654 739 885 197 266 228 892 207\n",
      "  883 588]]\n",
      "103 998\n",
      "117 997\n"
     ]
    }
   ],
   "source": [
    "# code here\n",
    "import numpy as np\n",
    "\n",
    "np.random.seed(400)\n",
    "arr = np.random.randint(100, 1000, 200).reshape((1, 200))\n",
    "print(arr)\n",
    "print(arr.min(),arr.max())\n",
    "arr = np.delete(arr,[np.argmax(arr),np.argmin(arr)])\n",
    "print(arr.min(),arr.max())"
   ]
  },
  {
   "cell_type": "markdown",
   "metadata": {
    "id": "0dHN1sdnl0Jy"
   },
   "source": [
    "### `Q-8:` You are given an arrays. You have to limit this array's elements between 100 to 200. $arr ∈ [100, 200]$. So replace those values accordingly with the minimum and maximum value. Then sort the array and perform the cumulative sum of that array."
   ]
  },
  {
   "cell_type": "code",
   "execution_count": 276,
   "metadata": {
    "id": "a3YF_E-Hlza7"
   },
   "outputs": [
    {
     "data": {
      "text/plain": [
       "array([ 100,  200,  300,  400,  509,  709,  909, 1109, 1309, 1509, 1709,\n",
       "       1909, 2109, 2309, 2509, 2709, 2909, 3109, 3309, 3509, 3709, 3909,\n",
       "       4109, 4309, 4509, 4709, 4909, 5109, 5309, 5509, 5709, 5909, 6109,\n",
       "       6309, 6509, 6709, 6909, 7109, 7309, 7509, 7709, 7909, 8109, 8309,\n",
       "       8509, 8709, 8909, 9109, 9309, 9509], dtype=int32)"
      ]
     },
     "execution_count": 276,
     "metadata": {},
     "output_type": "execute_result"
    }
   ],
   "source": [
    "# code here\n",
    "arr = np.random.randint(0, 2000, 50)\n",
    "np.cumsum(np.sort(np.clip(arr, 100, 200)))"
   ]
  },
  {
   "cell_type": "markdown",
   "metadata": {
    "id": "cXj90Susl4-I"
   },
   "source": [
    "### `Q-9:` You are given a array ($arr ∈ [0, 1]$). First you have round off the elements upto 3 decimal places and compare that\n",
    "- 0th percentile == minimum value of the array\n",
    "- 100th percentile == maximum value of the array\n",
    "- also find the difference betwen 51th percenile and 50th percentile values"
   ]
  },
  {
   "cell_type": "code",
   "execution_count": 274,
   "metadata": {
    "id": "SgBEHodgl7Lo"
   },
   "outputs": [
    {
     "name": "stdout",
     "output_type": "stream",
     "text": [
      "0th percentile == minimum value of the array:  True\n",
      "100th percentile == maximum value of the array:  True\n",
      "difference betwen 51th percenile and 50th percentile values:  0.022330000000000017\n"
     ]
    }
   ],
   "source": [
    "# code here\n",
    "# code here\n",
    "arr = np.random.random(100)\n",
    "arr = np.around(arr, decimals = 3)\n",
    "\n",
    "print(\"0th percentile == minimum value of the array: \", (np.percentile(arr, 0) == arr.min()))\n",
    "print(\"100th percentile == maximum value of the array: \", (np.percentile(arr, 100) == arr.max()))\n",
    "print(\"difference betwen 51th percenile and 50th percentile values: \", (np.percentile(arr, 51) - np.percentile(arr, 50)))"
   ]
  },
  {
   "cell_type": "code",
   "execution_count": null,
   "metadata": {},
   "outputs": [],
   "source": []
  }
 ],
 "metadata": {
  "colab": {
   "provenance": []
  },
  "kernelspec": {
   "display_name": "Python 3 (ipykernel)",
   "language": "python",
   "name": "python3"
  },
  "language_info": {
   "codemirror_mode": {
    "name": "ipython",
    "version": 3
   },
   "file_extension": ".py",
   "mimetype": "text/x-python",
   "name": "python",
   "nbconvert_exporter": "python",
   "pygments_lexer": "ipython3",
   "version": "3.9.12"
  }
 },
 "nbformat": 4,
 "nbformat_minor": 1
}
